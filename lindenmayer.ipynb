{
 "cells": [
  {
   "cell_type": "markdown",
   "id": "fd0c4667",
   "metadata": {},
   "source": [
    "# Estructuras ramificadas de  raíces, tallos y hojas basándose en los sistemas  L de Lindenmayer."
   ]
  },
  {
   "cell_type": "markdown",
   "id": "2b1dd591",
   "metadata": {},
   "source": [
    "## Algoritmo"
   ]
  },
  {
   "cell_type": "code",
   "execution_count": 1,
   "id": "0b13f825",
   "metadata": {},
   "outputs": [],
   "source": [
    "import re\n",
    "import sys\n",
    "import turtle as tr"
   ]
  },
  {
   "cell_type": "code",
   "execution_count": 12,
   "id": "438b8c0a",
   "metadata": {},
   "outputs": [],
   "source": [
    "step = 20\n",
    "ejeY = None\n",
    "delta = None\n",
    "\n",
    "turtle = None\n",
    "regex_regla = re.compile(r'([a-zA-Z0-9]+)(\\s*:\\s)([\\[\\]\\w\\+\\-]+)(\\s*)$')"
   ]
  },
  {
   "cell_type": "markdown",
   "id": "f72f16d0",
   "metadata": {},
   "source": [
    "### Pila"
   ]
  },
  {
   "cell_type": "code",
   "execution_count": 2,
   "id": "b9565ae2",
   "metadata": {},
   "outputs": [],
   "source": [
    "class Stack:\n",
    "\n",
    "\tdef __init__(self):\n",
    "\t\tself.lista = []\n",
    "\n",
    "\tdef push(self, angulo, posicion):\n",
    "\t\tself.lista.append((angulo, posicion))\n",
    "\n",
    "\tdef pop(self):\n",
    "\t\treturn self.lista.pop()\n",
    "\n",
    "\tdef size(self):\n",
    "\t\treturn self.len(lista)"
   ]
  },
  {
   "cell_type": "markdown",
   "id": "cec8854e",
   "metadata": {},
   "source": [
    "### Configurar gráfico de tortuga"
   ]
  },
  {
   "cell_type": "code",
   "execution_count": 3,
   "id": "0a0f62a8",
   "metadata": {},
   "outputs": [],
   "source": [
    "def iniciar_grafico():\n",
    "\tglobal turtle\n",
    "\n",
    "\tturtle = tr.Turtle(visible = False)\n",
    "\tscreen = tr.Screen()\n",
    "\tturtle.up()\n",
    "\tif ejeY == 0:\n",
    "\t\tturtle.setposition(0, 0)\n",
    "\telse:\n",
    "\t\tturtle.setposition(0, -screen.window_height()/2)\n",
    "\tturtle.left(90)\n",
    "\tturtle.showturtle()\n",
    "\tturtle.down()"
   ]
  },
  {
   "cell_type": "markdown",
   "id": "22f75e56",
   "metadata": {},
   "source": [
    "### Reglas del sistema L"
   ]
  },
  {
   "cell_type": "code",
   "execution_count": 4,
   "id": "172461b2",
   "metadata": {},
   "outputs": [],
   "source": [
    "def leer_reglas(archivo):\n",
    "\tglobal ejeY\n",
    "\n",
    "\tindice = 0\n",
    "\tpalabra = ''\n",
    "\treglas = {}\n",
    "\tdelta = 0\n",
    "\twith open(archivo, 'r') as f:\n",
    "\t\twhile True:\n",
    "\t\t\tif indice == 0:\n",
    "\t\t\t\tejeY = float(f.readline())\n",
    "\t\t\t\tindice += 1\n",
    "\t\t\telif indice == 1:\n",
    "\t\t\t\tdelta = float(f.readline())\n",
    "\t\t\t\tindice += 1\n",
    "\t\t\telif indice == 2:\n",
    "\t\t\t\tpalabra = f.readline()\n",
    "\t\t\t\tindice += 1\n",
    "\t\t\telse:\n",
    "\t\t\t\tregla = f.readline()\n",
    "\t\t\t\twhile regla:\n",
    "\t\t\t\t\tmatch = regex_regla.match(regla)\n",
    "\t\t\t\t\tif match:\n",
    "\t\t\t\t\t\treglas[match.group(1)] = match.group(3)\n",
    "\t\t\t\t\tregla = f.readline()\n",
    "\t\t\t\tbreak\n",
    "\n",
    "\treturn palabra, reglas, delta"
   ]
  },
  {
   "cell_type": "markdown",
   "id": "49372082",
   "metadata": {},
   "source": [
    "### Sustitución en paralelo"
   ]
  },
  {
   "cell_type": "code",
   "execution_count": 5,
   "id": "110a72d5",
   "metadata": {},
   "outputs": [],
   "source": [
    "def sustitucion(ciclos, palabra, reglas):\n",
    "\ttemp = []\n",
    "\tindice = 0\n",
    "\tfor i in range(ciclos):\n",
    "\t\twhile len(palabra) > 0:\n",
    "\t\t\tvalido = False\n",
    "\t\t\tfor (regex, sucesor) in reglas.items():\n",
    "\t\t\t\tif(re.match(regex, palabra)):\n",
    "\t\t\t\t\tvalido = True\n",
    "\t\t\t\t\ttemp.append(sucesor)\n",
    "\t\t\t\t\tpalabra = palabra[len(regex):]\n",
    "\t\t\t\t\tbreak\n",
    "\n",
    "\t\t\tif not valido:\n",
    "\t\t\t\ttemp.append(palabra[0])\n",
    "\t\t\t\tpalabra = palabra[1:]\n",
    "\n",
    "\t\tpalabra = ''.join(temp)\n",
    "\t\ttemp = []\n",
    "\n",
    "\treturn palabra"
   ]
  },
  {
   "cell_type": "markdown",
   "id": "d8e55204",
   "metadata": {},
   "source": [
    "### Simulación"
   ]
  },
  {
   "cell_type": "code",
   "execution_count": 7,
   "id": "2785fb91",
   "metadata": {},
   "outputs": [],
   "source": [
    "def simulacion(palabra):\n",
    "\tstack = Stack()\n",
    "\n",
    "\tfor simbolo in palabra:\n",
    "\t\tif simbolo == 'F':\n",
    "\t\t\tturtle.forward(step)\n",
    "\t\telif simbolo == '+':\n",
    "\t\t\tturtle.right(delta)\n",
    "\t\telif simbolo == '-':\n",
    "\t\t\tturtle.left(delta)\n",
    "\t\telif simbolo == '[':\n",
    "\t\t\tstack.push(turtle.heading(), turtle.position())\n",
    "\t\telif simbolo == ']':\n",
    "\t\t\tangulo, posicion = stack.pop()\n",
    "\t\t\tturtle.setposition(posicion)\n",
    "\t\t\tturtle.setheading(angulo)"
   ]
  },
  {
   "cell_type": "markdown",
   "id": "a26ae183",
   "metadata": {},
   "source": [
    "### Ejecución"
   ]
  },
  {
   "cell_type": "code",
   "execution_count": 8,
   "id": "a46b3a8a",
   "metadata": {},
   "outputs": [],
   "source": [
    "def main(args):\n",
    "\tglobal delta\n",
    "\n",
    "\tpalabra, reglas, delta = leer_reglas(args[0])\t\n",
    "\tpalabra = sustitucion(int(args[1]), palabra, reglas)\n",
    "\n",
    "\tprint(reglas)\n",
    "\tprint(palabra)\n",
    "\n",
    "\tiniciar_grafico()\n",
    "\tsimulacion(palabra)\n",
    "\n",
    "\ttr.exitonclick()"
   ]
  },
  {
   "cell_type": "code",
   "execution_count": 13,
   "id": "9be049f6",
   "metadata": {},
   "outputs": [
    {
     "name": "stdout",
     "output_type": "stream",
     "text": [
      "{'F': 'F[+F]F[-F]F'}\n",
      "F[+F]F[-F]F[+F[+F]F[-F]F]F[+F]F[-F]F[-F[+F]F[-F]F]F[+F]F[-F]F[+F[+F]F[-F]F[+F[+F]F[-F]F]F[+F]F[-F]F[-F[+F]F[-F]F]F[+F]F[-F]F]F[+F]F[-F]F[+F[+F]F[-F]F]F[+F]F[-F]F[-F[+F]F[-F]F]F[+F]F[-F]F[-F[+F]F[-F]F[+F[+F]F[-F]F]F[+F]F[-F]F[-F[+F]F[-F]F]F[+F]F[-F]F]F[+F]F[-F]F[+F[+F]F[-F]F]F[+F]F[-F]F[-F[+F]F[-F]F]F[+F]F[-F]F\n",
      "\n"
     ]
    }
   ],
   "source": [
    "args = ('planta1.txt', 3)\n",
    "main(args)"
   ]
  },
  {
   "cell_type": "markdown",
   "id": "81ce3908",
   "metadata": {},
   "source": [
    "## Pruebas"
   ]
  },
  {
   "cell_type": "markdown",
   "id": "8bb55ea3",
   "metadata": {},
   "source": [
    "### Número de ciclos, 3, planta1.txt."
   ]
  },
  {
   "cell_type": "markdown",
   "id": "ad421376",
   "metadata": {},
   "source": [
    "![Planta fractal, 3 ciclos.](planta1_3.png)"
   ]
  }
 ],
 "metadata": {
  "kernelspec": {
   "display_name": "Python 3 (ipykernel)",
   "language": "python",
   "name": "python3"
  },
  "language_info": {
   "codemirror_mode": {
    "name": "ipython",
    "version": 3
   },
   "file_extension": ".py",
   "mimetype": "text/x-python",
   "name": "python",
   "nbconvert_exporter": "python",
   "pygments_lexer": "ipython3",
   "version": "3.8.10"
  }
 },
 "nbformat": 4,
 "nbformat_minor": 5
}
